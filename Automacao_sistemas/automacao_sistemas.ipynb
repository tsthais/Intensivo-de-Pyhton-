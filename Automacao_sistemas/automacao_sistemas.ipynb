{
 "cells": [
  {
   "cell_type": "markdown",
   "metadata": {},
   "source": [
    "# Automação de Sistemas e Processos com Python"
   ]
  },
  {
   "cell_type": "code",
   "execution_count": 1,
   "metadata": {},
   "outputs": [],
   "source": [
    "# Instalando as principais bibliotecas que foram utilizadas\n",
    "# Esse código só precisa ser rodado uma vez\n",
    "\n",
    "#!pip install pyautogui\n",
    "#!pip install pyperclip"
   ]
  },
  {
   "cell_type": "code",
   "execution_count": 2,
   "metadata": {},
   "outputs": [],
   "source": [
    "# Bibliotecas utilizadas\n",
    "\n",
    "import pyautogui\n",
    "import pyperclip\n",
    "import time \n",
    "import pandas as pd"
   ]
  },
  {
   "cell_type": "code",
   "execution_count": 3,
   "metadata": {},
   "outputs": [],
   "source": [
    "# Passo 1\n",
    "\n",
    "# Entrar no sistema da empresa\n",
    "\n",
    "pyautogui.PAUSE = 1\n",
    "\n",
    "# Abrir uma aba no navegador \n",
    "\n",
    "pyautogui.hotkey(\"ctrl\", \"t\")\n",
    "\n",
    "# Escrever o link do drive \n",
    "\n",
    "# O pyperclip consegue trabalhar com caracteres especiais \n",
    "pyperclip.copy(\"https://drive.google.com/drive/folders/149xknr9JvrlEnhNWO49zPcw0PW5icxga?usp=sharing\")\n",
    "\n",
    "# Colocando o link \n",
    "pyautogui.hotkey(\"ctrl\", \"v\")\n",
    "\n",
    "# Apertar enter \n",
    "\n",
    "pyautogui.press(\"enter\")\n",
    "\n",
    "# Passo 2\n",
    "\n",
    "# Tempo de espera para o sistema carregar \n",
    "time.sleep(8)\n",
    "\n",
    "# Clicar na pasta do sistema \n",
    "\n",
    "pyautogui.click(x=1767, y=103, clicks = 2)\n",
    "\n",
    "# Passo 3\n",
    "\n",
    "# Download da base \n",
    "\n",
    "time.sleep(2)\n",
    " \n",
    "# Clicar no arquivo\n",
    "pyautogui.click(x=1803, y=146)\n",
    "\n",
    "time.sleep(1)\n",
    "\n",
    "# CLicar em download\n",
    "pyautogui.click(x=3078, y=-11)\n",
    "\n",
    "pyautogui.click(x=2862, y=392)\n",
    "\n",
    "# Tempo de espera para download\n",
    "time.sleep(5)"
   ]
  },
  {
   "cell_type": "code",
   "execution_count": 4,
   "metadata": {},
   "outputs": [],
   "source": [
    "# Passo 4\n",
    "\n",
    "# Ler base de dados \n",
    "\n",
    "tabela_vendas = pd.read_excel(r\"C:\\Users\\thais\\Downloads\\Vendas - Dez.xlsx\")\n",
    "\n",
    "# Exibindo tabela\n",
    "\n",
    "# display(tabela_vendas)\n",
    "\n",
    "# Passo 5 \n",
    "\n",
    "# Selecionando as colunas de interesse e somando os valores \n",
    "\n",
    "faturamento = tabela_vendas[\"Valor Final\"].sum()\n",
    "\n",
    "qtde_produtos = tabela_vendas[\"Quantidade\"].sum()"
   ]
  },
  {
   "cell_type": "code",
   "execution_count": 5,
   "metadata": {},
   "outputs": [],
   "source": [
    "# Passo 6\n",
    "\n",
    "# Abrir aba no navegador \n",
    "\n",
    "pyautogui.hotkey(\"ctrl\", \"t\")\n",
    "\n",
    "# Escrever link do email\n",
    "\n",
    "pyperclip.copy(\"https://mail.google.com/mail/u/0/#inbox\")\n",
    "pyautogui.hotkey(\"ctrl\", \"v\")\n",
    "\n",
    "# Apertar enter\n",
    "\n",
    "pyautogui.press(\"enter\")\n",
    "\n",
    "# Tempo para a página carregar \n",
    "\n",
    "time.sleep(25)\n",
    "\n",
    "# Apertar para escrever email\n",
    "\n",
    "pyautogui.click(x = 1519, y = 10)\n",
    "\n",
    "# Tempo para a página carregar \n",
    "\n",
    "\n",
    "# Escrever destinatário \n",
    "\n",
    "pyautogui.write(\"thais.est.unb@gmail.com\")\n",
    "\n",
    "# Selecionar email\n",
    "\n",
    "pyautogui.press(\"tab\")\n",
    "\n",
    "# Mudar para campo de assunto \n",
    "\n",
    "pyautogui.press(\"tab\")\n",
    "\n",
    "# Escrever assunto \n",
    "\n",
    "pyperclip.copy(\"Relatório de vendas\")\n",
    "pyautogui.hotkey(\"ctrl\", \"v\")\n",
    "\n",
    "# Mudar para o campo do corpo do email\n",
    "\n",
    "pyautogui.press(\"tab\")\n",
    "\n",
    "# Escrever email \n",
    "\n",
    "texto = f\"\"\"\n",
    "Prezados, \n",
    "\n",
    "O faturamento de ontem foi de: R$ {faturamento:,.2f}\n",
    "A quantidade de produtos foi de: {qtde_produtos:,}\n",
    "\n",
    "At.te, \n",
    "\"\"\"\n",
    "\n",
    "pyperclip.copy(texto)\n",
    "pyautogui.hotkey(\"ctrl\", \"v\")\n",
    "\n",
    "# Clicar para enviar \n",
    "\n",
    "pyautogui.hotkey(\"ctrl\", \"enter\")\n"
   ]
  },
  {
   "cell_type": "code",
   "execution_count": 6,
   "metadata": {},
   "outputs": [
    {
     "data": {
      "text/plain": [
       "Point(x=1519, y=10)"
      ]
     },
     "execution_count": 6,
     "metadata": {},
     "output_type": "execute_result"
    }
   ],
   "source": [
    "# Código para descobrir a posição de um item que queira clicar\n",
    "\n",
    "time.sleep(5) # tempo para posicionar o mouse\n",
    "\n",
    "pyautogui.position()"
   ]
  }
 ],
 "metadata": {
  "kernelspec": {
   "display_name": "Python 3",
   "language": "python",
   "name": "python3"
  },
  "language_info": {
   "codemirror_mode": {
    "name": "ipython",
    "version": 3
   },
   "file_extension": ".py",
   "mimetype": "text/x-python",
   "name": "python",
   "nbconvert_exporter": "python",
   "pygments_lexer": "ipython3",
   "version": "3.8.5"
  }
 },
 "nbformat": 4,
 "nbformat_minor": 4
}
